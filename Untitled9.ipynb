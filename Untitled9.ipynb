{
  "nbformat": 4,
  "nbformat_minor": 0,
  "metadata": {
    "colab": {
      "provenance": [],
      "authorship_tag": "ABX9TyNBvdzFl/SwmvjPRCIIlaGu",
      "include_colab_link": true
    },
    "kernelspec": {
      "name": "python3",
      "display_name": "Python 3"
    },
    "language_info": {
      "name": "python"
    }
  },
  "cells": [
    {
      "cell_type": "markdown",
      "metadata": {
        "id": "view-in-github",
        "colab_type": "text"
      },
      "source": [
        "<a href=\"https://colab.research.google.com/github/VishalShinde3/conditional-statement/blob/main/Untitled9.ipynb\" target=\"_parent\"><img src=\"https://colab.research.google.com/assets/colab-badge.svg\" alt=\"Open In Colab\"/></a>"
      ]
    },
    {
      "cell_type": "code",
      "execution_count": 5,
      "metadata": {
        "colab": {
          "base_uri": "https://localhost:8080/"
        },
        "id": "62e7BHZzjVOX",
        "outputId": "f8fe9772-0d0f-4718-973a-a68cda0f1908"
      },
      "outputs": [
        {
          "output_type": "stream",
          "name": "stdout",
          "text": [
            "enter the no54\n",
            "sum of even no 27 and odd no are27\n"
          ]
        }
      ],
      "source": [
        "# write program on sum of all even or odd no\n",
        "number=int(input(\"enter the no\"))\n",
        "even=0\n",
        "odd=0\n",
        "for i in range(number):\n",
        "  if i%2==0:\n",
        "    even =  even+1\n",
        "  else:\n",
        "    odd= odd+1\n",
        "print(f\"sum of even no {even} and odd no are{odd}\")      \n",
        "\n"
      ]
    },
    {
      "cell_type": "code",
      "source": [],
      "metadata": {
        "id": "ljZnLCUQjsKS"
      },
      "execution_count": null,
      "outputs": []
    }
  ]
}