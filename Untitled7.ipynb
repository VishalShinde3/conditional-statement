{
  "nbformat": 4,
  "nbformat_minor": 0,
  "metadata": {
    "colab": {
      "provenance": [],
      "authorship_tag": "ABX9TyMKss86uec5tAWvCFKDf8JY",
      "include_colab_link": true
    },
    "kernelspec": {
      "name": "python3",
      "display_name": "Python 3"
    },
    "language_info": {
      "name": "python"
    }
  },
  "cells": [
    {
      "cell_type": "markdown",
      "metadata": {
        "id": "view-in-github",
        "colab_type": "text"
      },
      "source": [
        "<a href=\"https://colab.research.google.com/github/VishalShinde3/conditional-statement/blob/main/Untitled7.ipynb\" target=\"_parent\"><img src=\"https://colab.research.google.com/assets/colab-badge.svg\" alt=\"Open In Colab\"/></a>"
      ]
    },
    {
      "cell_type": "code",
      "execution_count": 12,
      "metadata": {
        "colab": {
          "base_uri": "https://localhost:8080/"
        },
        "id": "2WZeG-PakSO-",
        "outputId": "f5b76493-3e13-42c6-fee5-4dd69ed4fbef"
      },
      "outputs": [
        {
          "output_type": "stream",
          "name": "stdout",
          "text": [
            "enter a num:  67\n",
            "is sum of odd no 1 to 67=1156\n",
            "is sum of even no 1 to 67=1122\n"
          ]
        }
      ],
      "source": [
        "# program on sum of odd and even no\n",
        "odd=0\n",
        "even=0\n",
        "\n",
        "num=int(input(\"enter a num:  \"))\n",
        "for i in range (1,num+1):\n",
        "  if i % 2!=0:\n",
        "   odd=odd+i\n",
        "\n",
        "  else:\n",
        "    even=even+i \n",
        "\n",
        "print(\"is sum of odd no 1 to {0}={1}\".format(i,odd))    \n",
        "print(\"is sum of even no 1 to {0}={1}\".format(i,even))"
      ]
    }
  ]
}