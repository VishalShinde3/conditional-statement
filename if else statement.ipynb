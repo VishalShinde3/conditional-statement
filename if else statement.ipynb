{
  "nbformat": 4,
  "nbformat_minor": 0,
  "metadata": {
    "colab": {
      "provenance": [],
      "authorship_tag": "ABX9TyPWjrXupsqoACglafw8okqv",
      "include_colab_link": true
    },
    "kernelspec": {
      "name": "python3",
      "display_name": "Python 3"
    },
    "language_info": {
      "name": "python"
    }
  },
  "cells": [
    {
      "cell_type": "markdown",
      "metadata": {
        "id": "view-in-github",
        "colab_type": "text"
      },
      "source": [
        "<a href=\"https://colab.research.google.com/github/VishalShinde3/conditional-statement/blob/main/if%20else%20statement.ipynb\" target=\"_parent\"><img src=\"https://colab.research.google.com/assets/colab-badge.svg\" alt=\"Open In Colab\"/></a>"
      ]
    },
    {
      "cell_type": "code",
      "execution_count": 3,
      "metadata": {
        "colab": {
          "base_uri": "https://localhost:8080/"
        },
        "id": "5FNPXujucWB-",
        "outputId": "4fea256a-0506-427d-ca58-84cfbf606d89"
      },
      "outputs": [
        {
          "output_type": "stream",
          "name": "stdout",
          "text": [
            "enter any no: 555\n",
            "middle digit is 5\n"
          ]
        }
      ],
      "source": [
        "# program on to check whether a no entered three no digit or not\n",
        "num=(input(\"enter any no: \"))\n",
        "l=len(num)\n",
        "if l!=3:\n",
        "  print(\"enter three digit no\")\n",
        "else:\n",
        "  print(\"middle digit is\",(int(num)%100//10))  "
      ]
    },
    {
      "cell_type": "code",
      "source": [
        "# program on to check whether a person is eligible for voting or not\n",
        "age=int(input(\"enter your age: \"))\n",
        "if age>=18:\n",
        "  print(\"eligible for voting\")\n",
        "else:\n",
        "  print(\"eligible for not voting\")  "
      ],
      "metadata": {
        "colab": {
          "base_uri": "https://localhost:8080/"
        },
        "id": "4uyjrmP0deRN",
        "outputId": "e2cbda08-6cd4-44b1-ac71-a48bf9ded5c1"
      },
      "execution_count": 5,
      "outputs": [
        {
          "output_type": "stream",
          "name": "stdout",
          "text": [
            "enter your age: 45\n",
            "eligible for voting\n"
          ]
        }
      ]
    },
    {
      "cell_type": "code",
      "source": [
        "# program on to check a person is senior citzen or not\n",
        "age=int(input(\"enter the person age: \"))\n",
        "if age>=60:\n",
        "  print(\"person is a senior citzen\")\n",
        "else:\n",
        "  print(\"person is not senior citizen\")  "
      ],
      "metadata": {
        "colab": {
          "base_uri": "https://localhost:8080/"
        },
        "id": "laXsj2DFeKIb",
        "outputId": "331a05c0-f2d0-44db-fad7-5793155a2790"
      },
      "execution_count": 8,
      "outputs": [
        {
          "output_type": "stream",
          "name": "stdout",
          "text": [
            "enter the person age: 75\n",
            "person is a senior citzen\n"
          ]
        }
      ]
    },
    {
      "cell_type": "code",
      "source": [
        "# program on to check eligible in plice bharti to minimum 60% marks in 12TH\n",
        "marks=int(input(\"enter the marks 12TH: \"))\n",
        "if marks>=60:\n",
        "  print(\"the candidate are eligible for a police bharti\")\n",
        "else:\n",
        "  print(\"the candidate are not eligible for a police bharti\")  "
      ],
      "metadata": {
        "colab": {
          "base_uri": "https://localhost:8080/"
        },
        "id": "sjV-8MBDe-7q",
        "outputId": "207baa42-4a2b-45aa-8a95-d09f5c930025"
      },
      "execution_count": 10,
      "outputs": [
        {
          "output_type": "stream",
          "name": "stdout",
          "text": [
            "enter the marks 12TH: 75\n",
            "the candidate are eligible for a police bharti\n"
          ]
        }
      ]
    },
    {
      "cell_type": "code",
      "source": [
        "# write program on  to find lowest no out of two no excepted from user\n",
        "num1=int(input(\"enter first no: \"))\n",
        "num2=int(input(\"enter second no: \"))\n",
        "if num1>num2:\n",
        "  print(\"the smallar no is: \",num2)\n",
        "else:\n",
        "  print(\"the smallar no is: \",num1)  "
      ],
      "metadata": {
        "colab": {
          "base_uri": "https://localhost:8080/"
        },
        "id": "ynO64eXLgG0l",
        "outputId": "db4a78b7-8378-4c1e-f418-f7889f70ac71"
      },
      "execution_count": 11,
      "outputs": [
        {
          "output_type": "stream",
          "name": "stdout",
          "text": [
            "enter first no: 34\n",
            "enter second no: 45\n",
            "the smallar no is:  34\n"
          ]
        }
      ]
    },
    {
      "cell_type": "code",
      "source": [
        "# write program on to find greatest no out of two no excepted from user\n",
        "num1=int(input(\"enter the first no: \"))\n",
        "num2=int(input(\"enter the second no: \"))\n",
        "if num1>num2:\n",
        "  print(\"the greatest no is: \",num1)\n",
        "else:\n",
        "  print(\"the greatest no is: \",num2)  "
      ],
      "metadata": {
        "colab": {
          "base_uri": "https://localhost:8080/"
        },
        "id": "yQv_CbaFhSyM",
        "outputId": "8594b6bf-f5ca-4bff-de4f-8e42ea385700"
      },
      "execution_count": 14,
      "outputs": [
        {
          "output_type": "stream",
          "name": "stdout",
          "text": [
            "enter the first no: 45\n",
            "enter the second no: 50\n",
            "the greatest no is:  50\n"
          ]
        }
      ]
    },
    {
      "cell_type": "code",
      "source": [
        "# write program on to check no is positve or negative\n",
        "num1=int(input(\"enter the first no: \"))\n",
        "if num1>0:\n",
        "  print(\"no is positive\")\n",
        "else:\n",
        "  print(\"no is negative\")  "
      ],
      "metadata": {
        "colab": {
          "base_uri": "https://localhost:8080/"
        },
        "id": "v8b__tO2ifSe",
        "outputId": "a9140f29-afa2-4cbe-c8d7-9d474525010d"
      },
      "execution_count": 17,
      "outputs": [
        {
          "output_type": "stream",
          "name": "stdout",
          "text": [
            "enter the first no: -12\n",
            "no is negative\n"
          ]
        }
      ]
    },
    {
      "cell_type": "code",
      "source": [
        "# write program to whether a no is divisible by 2 and 3\n",
        "num1=int(input(\"enter the first no: \"))\n",
        "if num1%2==0 and num1%3==0:\n",
        "  print(\"the no is divisible by 2 and 3 both \")\n",
        "else:\n",
        "  print(\"not divisible by both\")  "
      ],
      "metadata": {
        "colab": {
          "base_uri": "https://localhost:8080/"
        },
        "id": "nkTEPcCTkBQO",
        "outputId": "c3020851-566c-401c-ede3-d903a8479939"
      },
      "execution_count": 20,
      "outputs": [
        {
          "output_type": "stream",
          "name": "stdout",
          "text": [
            "enter the first no: 18\n",
            "the no is divisible by 2 and 3 both \n"
          ]
        }
      ]
    },
    {
      "cell_type": "code",
      "source": [],
      "metadata": {
        "id": "bjs0_iDIljeY"
      },
      "execution_count": null,
      "outputs": []
    },
    {
      "cell_type": "code",
      "source": [
        "# write program on to whether a given no divisible by 10 and 12\n",
        "num1=int(input(\"enter the given no: \"))\n",
        "if num1%10==0 and num1%12==0:\n",
        "  print(\"the no. is divisible by 10 and 12 both\")\n",
        "else:\n",
        "  print(\"not divisible by both\")  "
      ],
      "metadata": {
        "colab": {
          "base_uri": "https://localhost:8080/"
        },
        "id": "jrsniRXmk-pP",
        "outputId": "01002191-ed7c-4e9b-de5d-7b17f06c1619"
      },
      "execution_count": 26,
      "outputs": [
        {
          "output_type": "stream",
          "name": "stdout",
          "text": [
            "enter the given no: 120\n",
            "the no. is divisible by 10 and 12 both\n"
          ]
        }
      ]
    }
  ]
}